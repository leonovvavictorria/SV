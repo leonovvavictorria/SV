{
  "nbformat": 4,
  "nbformat_minor": 0,
  "metadata": {
    "colab": {
      "provenance": [],
      "toc_visible": true
    },
    "kernelspec": {
      "name": "python3",
      "display_name": "Python 3"
    },
    "language_info": {
      "name": "python"
    }
  },
  "cells": [
    {
      "cell_type": "markdown",
      "source": [
        "## Лабораторная работа №1\n",
        "### Выполнила студентка 4 курса группы БВТ2002\n",
        "### Леонова Виктория Олеговна"
      ],
      "metadata": {
        "id": "j8N7c8MslLVG"
      }
    },
    {
      "cell_type": "code",
      "execution_count": 1,
      "metadata": {
        "id": "FO1HnHa2lHeo"
      },
      "outputs": [],
      "source": [
        "import numpy as np\n",
        "\n",
        "def Convolution2D(input, weight, bias=None, stride=1, padding=0):\n",
        "\n",
        "    # Получение размеров входного изображения и фильтра\n",
        "    input_height, input_width = input.shape\n",
        "    filter_height, filter_width = weight.shape\n",
        "\n",
        "    # Расчет размеров выходного изображения\n",
        "    output_height = (input_height - filter_height + 2 * padding) // stride + 1\n",
        "    output_width = (input_width - filter_width + 2 * padding) // stride + 1\n",
        "\n",
        "    # Добавление отступов к входному изображению\n",
        "    if padding > 0:\n",
        "        padded_input = np.pad(input, padding, mode='constant')\n",
        "    else:\n",
        "        padded_input = input\n",
        "\n",
        "    # Создание выходного массива\n",
        "    output = np.zeros((output_height, output_width))\n",
        "\n",
        "    # Проход по выходным пикселям\n",
        "    for i in range(output_height):\n",
        "        for j in range(output_width):\n",
        "\n",
        "            # Вычисление значения свертки для текущего пикселя\n",
        "            output[i, j] = np.sum(padded_input[i:i+filter_height, j:j+filter_width] * weight)\n",
        "\n",
        "            # Добавление смещения (bias), если указано\n",
        "            if bias is not None:\n",
        "                output[i, j] += bias\n",
        "\n",
        "    return output"
      ]
    },
    {
      "cell_type": "code",
      "source": [
        "# Входные данные\n",
        "input = np.array([[1, 2, 3],\n",
        "                  [4, 5, 6],\n",
        "                  [7, 8, 9]])\n",
        "\n",
        "# Фильтр\n",
        "weight = np.array([[1, 0, -1],\n",
        "                   [2, 0, -2],\n",
        "                   [1, 0, -1]])\n",
        "\n",
        "# Вызов функции свертки\n",
        "output = Convolution2D(input, weight, stride=1, padding=1)"
      ],
      "metadata": {
        "id": "V6hsQcm5laqA"
      },
      "execution_count": 2,
      "outputs": []
    },
    {
      "cell_type": "code",
      "source": [
        "# Вывод результата\n",
        "print(output)"
      ],
      "metadata": {
        "colab": {
          "base_uri": "https://localhost:8080/"
        },
        "id": "dhie9Em7l6--",
        "outputId": "b6c0d32c-6988-428c-f7ca-6b9e6f4939c5"
      },
      "execution_count": 3,
      "outputs": [
        {
          "output_type": "stream",
          "name": "stdout",
          "text": [
            "[[ -9.  -6.   9.]\n",
            " [-20.  -8.  20.]\n",
            " [-21.  -6.  21.]]\n"
          ]
        }
      ]
    },
    {
      "cell_type": "code",
      "source": [
        "#Тест 1: свертка с фильтром 3x3 без отступов и смещения\n",
        "def test_1():\n",
        "  input_1 = np.array([[1, 2, 3],\n",
        "                    [4, 5, 6],\n",
        "                    [7, 8, 9]])\n",
        "  weight_1 = np.array([[1, 0, -1],\n",
        "                   [2, 0, -2],\n",
        "                   [1, 0, -1]])\n",
        "  expected_output_1 = np.array([[-9, -6, 9],\n",
        "                              [-20, -8, 20],\n",
        "                              [-21, -6, 21]])\n",
        "  output_1 = Convolution2D(input_1, weight_1, stride=1, padding=1)\n",
        "  assert np.array_equal(output_1, expected_output_1), \"Пройден\""
      ],
      "metadata": {
        "id": "Mmh7jhfj-ic4"
      },
      "execution_count": 4,
      "outputs": []
    },
    {
      "cell_type": "code",
      "source": [
        "test_1()"
      ],
      "metadata": {
        "id": "9lRCWgFXJfub"
      },
      "execution_count": 5,
      "outputs": []
    }
  ]
}