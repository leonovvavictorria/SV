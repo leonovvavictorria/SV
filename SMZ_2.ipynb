{
  "nbformat": 4,
  "nbformat_minor": 0,
  "metadata": {
    "colab": {
      "provenance": [],
      "toc_visible": true
    },
    "kernelspec": {
      "name": "python3",
      "display_name": "Python 3"
    },
    "language_info": {
      "name": "python"
    }
  },
  "cells": [
    {
      "cell_type": "markdown",
      "source": [
        "## Лабораторная работа №2\n",
        "### Выполнила студентка 4 курса группы БВТ2002\n",
        "### Леонова Виктория Олеговна"
      ],
      "metadata": {
        "id": "ilpq-3FqnkjH"
      }
    },
    {
      "cell_type": "code",
      "source": [
        "import numpy as np\n",
        "\n",
        "def Convolution3D(input, weight, bias=None, stride=1, padding=0):\n",
        "\n",
        "    # Получение размеров входного объема и фильтра\n",
        "    input_depth, input_height, input_width = input.shape\n",
        "    filter_depth, filter_height, filter_width = weight.shape\n",
        "\n",
        "    # Расчет размеров выходного объема\n",
        "    output_depth = (input_depth - filter_depth + 2 * padding) // stride + 1\n",
        "    output_height = (input_height - filter_height + 2 * padding) // stride + 1\n",
        "    output_width = (input_width - filter_width + 2 * padding) // stride + 1\n",
        "\n",
        "    # Добавление отступов к входному объему\n",
        "    if padding > 0:\n",
        "        padded_input = np.pad(input, ((padding, padding), (padding, padding), (padding, padding)), mode='constant')\n",
        "    else:\n",
        "        padded_input = input\n",
        "\n",
        "    # Создание выходного массива\n",
        "    output = np.zeros((output_depth, output_height, output_width))\n",
        "\n",
        "    # Проход по выходным пикселям\n",
        "    for d in range(output_depth):\n",
        "        for h in range(output_height):\n",
        "            for w in range(output_width):\n",
        "                # Вычисление значения свертки для текущего пикселя\n",
        "                output[d, h, w] = np.sum(padded_input[d:d+filter_depth, h:h+filter_height, w:w+filter_width] * weight)\n",
        "\n",
        "                # Добавление смещения (bias), если указано\n",
        "                if bias is not None:\n",
        "                    output[d, h, w] += bias\n",
        "\n",
        "    return output"
      ],
      "metadata": {
        "id": "D68QXR4dnLsT"
      },
      "execution_count": 1,
      "outputs": []
    },
    {
      "cell_type": "code",
      "source": [
        "input = np.array([\n",
        "    [[1, 2, 3], [4, 5, 6], [7, 8, 9]],\n",
        "    [[10, 11, 12], [13, 14, 15], [16, 17, 18]],\n",
        "    [[19, 20, 21], [22, 23, 24], [25, 26, 27]]\n",
        "])\n",
        "\n",
        "weight = np.array([\n",
        "    [[1, 1, 1], [1, 1, 1], [1, 1, 1]],\n",
        "    [[1, 1, 1], [1, 1, 1], [1, 1, 1]],\n",
        "    [[1, 1, 1], [1, 1, 1], [1, 1, 1]]\n",
        "])\n",
        "\n",
        "bias = np.array([1])\n",
        "stride = 2\n",
        "padding = 1\n",
        "\n",
        "# Вызов функции Convolution3D\n",
        "output = Convolution3D(input, weight, bias, stride, padding)\n"
      ],
      "metadata": {
        "id": "sbABEqa2nOEK"
      },
      "execution_count": 2,
      "outputs": []
    },
    {
      "cell_type": "code",
      "source": [
        "# Вывод результата\n",
        "print(output)"
      ],
      "metadata": {
        "colab": {
          "base_uri": "https://localhost:8080/"
        },
        "id": "LhjVMA8snQnh",
        "outputId": "a129ab06-db0f-44e1-f277-941e0af464c0"
      },
      "execution_count": 3,
      "outputs": [
        {
          "output_type": "stream",
          "name": "stdout",
          "text": [
            "[[[ 61.  97.]\n",
            "  [109. 172.]]\n",
            "\n",
            " [[145. 226.]\n",
            "  [244. 379.]]]\n"
          ]
        }
      ]
    },
    {
      "cell_type": "code",
      "source": [
        "def test_1():\n",
        "  input = np.array([\n",
        "    [[1, 2, 3], [4, 5, 6], [7, 8, 9]],\n",
        "    [[10, 11, 12], [13, 14, 15], [16, 17, 18]],\n",
        "    [[19, 20, 21], [22, 23, 24], [25, 26, 27]]\n",
        "    ])\n",
        "\n",
        "  weight = np.array([\n",
        "    [[1, 1, 1], [1, 1, 1], [1, 1, 1]],\n",
        "    [[1, 1, 1], [1, 1, 1], [1, 1, 1]],\n",
        "    [[1, 1, 1], [1, 1, 1], [1, 1, 1]]\n",
        "    ])\n",
        "\n",
        "  bias = np.array([1])\n",
        "\n",
        "  stride = 2\n",
        "  padding = 1\n",
        "\n",
        "# Вызов функции Convolution3D\n",
        "  output = Convolution3D(input, weight, bias, stride, padding)\n",
        "\n",
        "# Проверки\n",
        "  expected_output = np.array([\n",
        "    [[61., 97.], [109., 172.]],\n",
        "    [[145., 226.], [244., 379.]]\n",
        "    ])\n",
        "\n",
        "  assert np.array_equal(output, expected_output)"
      ],
      "metadata": {
        "id": "S9W7yhYiNiI2"
      },
      "execution_count": 7,
      "outputs": []
    },
    {
      "cell_type": "code",
      "source": [
        "test_1()"
      ],
      "metadata": {
        "id": "eDoO_Ve905aZ"
      },
      "execution_count": 8,
      "outputs": []
    }
  ]
}